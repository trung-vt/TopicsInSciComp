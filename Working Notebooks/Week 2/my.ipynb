{
 "cells": [
  {
   "cell_type": "code",
   "execution_count": 6,
   "metadata": {},
   "outputs": [
    {
     "name": "stdout",
     "output_type": "stream",
     "text": [
      "backend TkAgg\n",
      "backend TkAgg\n"
     ]
    }
   ],
   "source": [
    "import numpy as np\n",
    "import matplotlib\n",
    "import matplotlib.pyplot as plt\n",
    "from matplotlib.axes._axes import Axes\n",
    "import time\n",
    "\n",
    "\n",
    "# The following lines makes the plots appear in another window\n",
    "print(\"backend\", plt.rcParams[\"backend\"])\n",
    "matplotlib.use(\"TkAgg\")\n",
    "print(\"backend\", plt.rcParams[\"backend\"])"
   ]
  },
  {
   "cell_type": "code",
   "execution_count": 4,
   "metadata": {},
   "outputs": [],
   "source": [
    "# help(plt.axis)\n",
    "#     # Parameters\n",
    "#     # ----------\n",
    "#     # xmin, xmax, ymin, ymax : float, optional\n",
    "#     #     The axis limits to be set.  This can also be achieved using ::\n",
    "\n",
    "#     #         ax.set(xlim=(xmin, xmax), ylim=(ymin, ymax))"
   ]
  },
  {
   "cell_type": "code",
   "execution_count": 10,
   "metadata": {},
   "outputs": [
    {
     "ename": "",
     "evalue": "",
     "output_type": "error",
     "traceback": [
      "\u001b[1;31mThe Kernel crashed while executing code in the the current cell or a previous cell. Please review the code in the cell(s) to identify a possible cause of the failure. Click <a href='https://aka.ms/vscodeJupyterKernelCrash'>here</a> for more info. View Jupyter <a href='command:jupyter.viewOutput'>log</a> for further details."
     ]
    }
   ],
   "source": [
    "def plot_asteroid_field(ax : Axes):\n",
    "  xmin, xmax = 0, 10.5\n",
    "  ymin, ymax = -4, 4\n",
    "  plt.axis([xmin, xmax,\n",
    "            ymin, ymax])\n",
    "  major_ticks = np.arange(0, 11, 1)\n",
    "  ax.set_xticks(major_ticks)\n",
    "  plt.xlabel(\"time / x position\")\n",
    "  plt.ylabel(\"y position\")\n",
    "  ax.set_aspect('equal')\n",
    "  ax.grid(which='major', alpha=0.8)\n",
    "  # ax.set(\n",
    "  #   xlim=(xmin, xmax),\n",
    "  #   ylim=(ymin, ymax),\n",
    "  #   xlabel=\"time / x position\",\n",
    "  #   ylabel=\"y position\",\n",
    "  #   aspect=\"equal\",\n",
    "  #   xticks=np.arange(start=xmin, stop=xmax+1, step=1)\n",
    "  # )\n",
    "  # Mark the asteroid positions onto the plot - read in the data from data/asteroid_locations.dat\n",
    "  # HINT: the function you need is called loadtxt\n",
    "  asteroid_locations= np.loadtxt(\"data/asteroid_locations.dat\")\n",
    "  for location in asteroid_locations :\n",
    "      circle=plt.Circle(location, 0.5 , color='r')\n",
    "      ax.add_artist(circle)\n",
    "  plt.pause(0.3)\n",
    "\n",
    "fig = plt.figure()\n",
    "ax = plt.gcf().gca()\n",
    "plot_asteroid_field(ax=ax)"
   ]
  }
 ],
 "metadata": {
  "kernelspec": {
   "display_name": "Python 3",
   "language": "python",
   "name": "python3"
  },
  "language_info": {
   "codemirror_mode": {
    "name": "ipython",
    "version": 3
   },
   "file_extension": ".py",
   "mimetype": "text/x-python",
   "name": "python",
   "nbconvert_exporter": "python",
   "pygments_lexer": "ipython3",
   "version": "3.9.13"
  }
 },
 "nbformat": 4,
 "nbformat_minor": 2
}
