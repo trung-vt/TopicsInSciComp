{
 "cells": [
  {
   "cell_type": "markdown",
   "id": "8677fe39",
   "metadata": {},
   "source": [
    "## Week 2 Lab exercises\n",
    "\n",
    "In this week we will use python to explore strange new worlds, to seek out new life and new civilisation, and to boldly code what no one has coded before. \n",
    "\n",
    "The goal is to familiarise yourself with using functions, loops, arrays and plotting in Python, and to illustrate some of the software carpentry points that we discussed in the lecture."
   ]
  },
  {
   "cell_type": "code",
   "execution_count": 1,
   "id": "0d8bde64",
   "metadata": {},
   "outputs": [
    {
     "name": "stdout",
     "output_type": "stream",
     "text": [
      "Using matplotlib backend: <object object at 0x112cb3140>\n"
     ]
    }
   ],
   "source": [
    "# first we import the libraries we need\n",
    "import numpy as np\n",
    "import matplotlib.pyplot as plt\n",
    "\n",
    "# The following lines makes the plots appear in another window - if using AppsAnywhere they may appear\n",
    "# in another window behind the notebook, and you may have to rearrange the desktop to see them.\n",
    "%matplotlib"
   ]
  },
  {
   "cell_type": "markdown",
   "id": "2b399aad",
   "metadata": {},
   "source": [
    "### ACTIVITY 1: \n",
    "In the code below, change the line as marked (UPDATE ME) to get the asteroid data from the data file `asteroid_locations.dat` that is in the `/data` folder"
   ]
  },
  {
   "cell_type": "code",
   "execution_count": 2,
   "id": "2bceae51",
   "metadata": {},
   "outputs": [],
   "source": [
    "# Set up the plotting\n",
    "\n",
    "def plot_asteroid_field(ax) :\n",
    "    plt.axis([0,10.5,-4,4])\n",
    "    major_ticks = np.arange(0, 11, 1)\n",
    "    ax.set_xticks(major_ticks)\n",
    "    plt.xlabel(\"time / x position\")\n",
    "    plt.ylabel(\"position\")\n",
    "    ax.set_aspect('equal')\n",
    "    ax.grid(which='major', alpha=0.8)\n",
    "\n",
    "    # Mark the asteroid positions onto the plot - read in the data from data/asteroid_locations.dat\n",
    "    # HINT: the function you need is called loadtxt\n",
    "    # asteroid_locations= np.array([[0,0], [0,0]]) # UPDATE ME!\n",
    "    asteroid_locations = np.loadtxt(\"data/asteroid_locations.dat\")\n",
    "    \n",
    "    for location in asteroid_locations :\n",
    "        circle=plt.Circle(location, 0.5 , color='r')\n",
    "        ax.add_artist(circle)\n",
    "    plt.pause(0.3)\n",
    "\n",
    "# Test the plot\n",
    "fig = plt.figure()\n",
    "ax = plt.gcf().gca()\n",
    "plot_asteroid_field(ax)\n",
    "\n",
    "# Uncomment to save the figure\n",
    "# plt.savefig(\"asteroid_locations.png\")"
   ]
  },
  {
   "cell_type": "code",
   "execution_count": 3,
   "id": "0c6bb38e",
   "metadata": {},
   "outputs": [
    {
     "name": "stdout",
     "output_type": "stream",
     "text": [
      "The list of times at the start is  [ 0  1  2  3  4  5  6  7  8  9 10]\n",
      "The list of y positions at the start is  [0 0 0 0 0 0 0 0 0 0 0]\n"
     ]
    }
   ],
   "source": [
    "# set up a list to store the times and positions\n",
    "list_of_times = np.array([0, 1, 2, 3, 4, 5, 6, 7, 8, 9, 10])\n",
    "list_of_y_positions = np.zeros_like(list_of_times)\n",
    "\n",
    "# print off the initial values of the times and positions\n",
    "print(\"The list of times at the start is \", list_of_times)\n",
    "print(\"The list of y positions at the start is \", list_of_y_positions)"
   ]
  },
  {
   "cell_type": "markdown",
   "id": "03a04402",
   "metadata": {},
   "source": [
    "### ACTIVITY 2: \n",
    "\n",
    "Captain Katy has asked you to plot a flight path through the asteroid field. If you run the code below you will see that the path does not currently avoid the asteroids :-( Update it so that it does! \n",
    "\n",
    "Also update so that the distance moved is calculated, and try to minimise this.\n",
    "\n",
    "RULES:\n",
    "\n",
    "- Just like in a retro video game, the ship must move one step forward in the x direction at every timestep, and you can only change its movement in the y direction to avoid the asteroids.\n",
    "- You should move in whole steps in the (x and) y direction, so you are always on integer coordinates.\n",
    "- You must end the flight back at position y=0.\n",
    "- Don't hit the asteroids! Note that their radius is 0.5 of a distance unit, so it is not sufficient to simply avoid the coordinates on which they are centred.\n",
    "\n",
    "#### BUT FIRST\n",
    "\n",
    "Remember *defensive programming*? You will see that the code does not check that it does what it should - i.e., it does not check that we have not hit an asteroid, and that we return to the zero position at the last step. Implement tests to check the rules _BEFORE_ you implement the code to set the path, and use asserts to make it quit with an error message if it fails.\n",
    "\n",
    "*TIP: You probably want to write any tests as a separate function. Would it be better to call them at each step or just at the end?*"
   ]
  },
  {
   "cell_type": "code",
   "execution_count": 34,
   "id": "25e6f7ae-f2f1-4e4b-837f-8bc912c89f13",
   "metadata": {},
   "outputs": [
    {
     "ename": "AssertionError",
     "evalue": "Rule 1 is violated! The ship must move one step forward in the x direction at every timestep.",
     "output_type": "error",
     "traceback": [
      "\u001b[0;31m---------------------------------------------------------------------------\u001b[0m",
      "\u001b[0;31mAssertionError\u001b[0m                            Traceback (most recent call last)",
      "Cell \u001b[0;32mIn[34], line 11\u001b[0m\n\u001b[1;32m      9\u001b[0m \u001b[38;5;66;03m# Test for test\u001b[39;00m\n\u001b[1;32m     10\u001b[0m invalid_list_of_times \u001b[38;5;241m=\u001b[39m np\u001b[38;5;241m.\u001b[39marray([\u001b[38;5;241m1\u001b[39m, \u001b[38;5;241m1\u001b[39m, \u001b[38;5;241m2\u001b[39m, \u001b[38;5;241m3\u001b[39m])\n\u001b[0;32m---> 11\u001b[0m \u001b[43mtest_x_movement_unmodified\u001b[49m\u001b[43m(\u001b[49m\u001b[43minvalid_list_of_times\u001b[49m\u001b[43m)\u001b[49m\n",
      "Cell \u001b[0;32mIn[34], line 4\u001b[0m, in \u001b[0;36mtest_x_movement_unmodified\u001b[0;34m(list_of_times)\u001b[0m\n\u001b[1;32m      2\u001b[0m \u001b[38;5;28;01mdef\u001b[39;00m \u001b[38;5;21mtest_x_movement_unmodified\u001b[39m(list_of_times):\n\u001b[1;32m      3\u001b[0m     time_size \u001b[38;5;241m=\u001b[39m np\u001b[38;5;241m.\u001b[39msize(list_of_times)\n\u001b[0;32m----> 4\u001b[0m     \u001b[38;5;28;01massert\u001b[39;00m (list_of_times \u001b[38;5;241m==\u001b[39m np\u001b[38;5;241m.\u001b[39marange(time_size))\u001b[38;5;241m.\u001b[39mall(), (\n\u001b[1;32m      5\u001b[0m         \u001b[38;5;124m\"\u001b[39m\u001b[38;5;124mRule 1 is violated! \u001b[39m\u001b[38;5;124m\"\u001b[39m \u001b[38;5;241m+\u001b[39m \n\u001b[1;32m      6\u001b[0m         \u001b[38;5;124m\"\u001b[39m\u001b[38;5;124mThe ship must move one step forward in the x direction at every timestep.\u001b[39m\u001b[38;5;124m\"\u001b[39m\n\u001b[1;32m      7\u001b[0m     )\n",
      "\u001b[0;31mAssertionError\u001b[0m: Rule 1 is violated! The ship must move one step forward in the x direction at every timestep."
     ]
    }
   ],
   "source": [
    "# Test Rule 1: the ship must move one step forward in the x direction at every timestep\n",
    "def test_x_movement_unmodified(list_of_times):\n",
    "    time_size = np.size(list_of_times)\n",
    "    assert (list_of_times == np.arange(time_size)).all(), (\n",
    "        \"Rule 1 is violated! \" + \n",
    "        \"The ship must move one step forward in the x direction at every timestep.\"\n",
    "    )\n",
    "\n",
    "# Test for test\n",
    "invalid_list_of_times = np.array([1, 1, 2, 3])\n",
    "test_x_movement_unmodified(invalid_list_of_times)"
   ]
  },
  {
   "cell_type": "code",
   "execution_count": 35,
   "id": "28819e8e-4719-4b3d-92c3-7d6b087b3f4e",
   "metadata": {},
   "outputs": [
    {
     "ename": "AssertionError",
     "evalue": "Rule 2 is violated! The y coordinates must be integers.",
     "output_type": "error",
     "traceback": [
      "\u001b[0;31m---------------------------------------------------------------------------\u001b[0m",
      "\u001b[0;31mAssertionError\u001b[0m                            Traceback (most recent call last)",
      "Cell \u001b[0;32mIn[35], line 11\u001b[0m\n\u001b[1;32m      9\u001b[0m \u001b[38;5;66;03m# Test for test\u001b[39;00m\n\u001b[1;32m     10\u001b[0m invalid_list_of_y_positions \u001b[38;5;241m=\u001b[39m np\u001b[38;5;241m.\u001b[39marray([\u001b[38;5;241m1\u001b[39m, \u001b[38;5;241m1.0\u001b[39m, \u001b[38;5;241m0\u001b[39m])\n\u001b[0;32m---> 11\u001b[0m \u001b[43mtest_y_coordinates_integer\u001b[49m\u001b[43m(\u001b[49m\u001b[43minvalid_list_of_y_positions\u001b[49m\u001b[43m)\u001b[49m\n",
      "Cell \u001b[0;32mIn[35], line 4\u001b[0m, in \u001b[0;36mtest_y_coordinates_integer\u001b[0;34m(list_of_y_positions)\u001b[0m\n\u001b[1;32m      2\u001b[0m \u001b[38;5;28;01mdef\u001b[39;00m \u001b[38;5;21mtest_y_coordinates_integer\u001b[39m(list_of_y_positions):\n\u001b[1;32m      3\u001b[0m     \u001b[38;5;28;01mfor\u001b[39;00m y \u001b[38;5;129;01min\u001b[39;00m list_of_y_positions:\n\u001b[0;32m----> 4\u001b[0m         \u001b[38;5;28;01massert\u001b[39;00m \u001b[38;5;28mtype\u001b[39m(y) \u001b[38;5;241m==\u001b[39m \u001b[38;5;28mint\u001b[39m, (\n\u001b[1;32m      5\u001b[0m             \u001b[38;5;124m\"\u001b[39m\u001b[38;5;124mRule 2 is violated! \u001b[39m\u001b[38;5;124m\"\u001b[39m \u001b[38;5;241m+\u001b[39m \n\u001b[1;32m      6\u001b[0m             \u001b[38;5;124m\"\u001b[39m\u001b[38;5;124mThe y coordinates must be integers.\u001b[39m\u001b[38;5;124m\"\u001b[39m\n\u001b[1;32m      7\u001b[0m         )\n",
      "\u001b[0;31mAssertionError\u001b[0m: Rule 2 is violated! The y coordinates must be integers."
     ]
    }
   ],
   "source": [
    "# Test Rule 2: You should move in whole steps in the (x and) y direction, so you are always on integer coordinates.\n",
    "def test_y_coordinates_integer(list_of_y_positions):\n",
    "    for y in list_of_y_positions:\n",
    "        assert type(y) == int, (\n",
    "            \"Rule 2 is violated! \" + \n",
    "            \"The y coordinates must be integers.\"\n",
    "        )\n",
    "\n",
    "# Test for test\n",
    "invalid_list_of_y_positions = np.array([1, 1.0, 0])\n",
    "test_y_coordinates_integer(invalid_list_of_y_positions)"
   ]
  },
  {
   "cell_type": "code",
   "execution_count": 36,
   "id": "24344fb7-48c6-49ad-b116-2b08f879ad84",
   "metadata": {
    "scrolled": true
   },
   "outputs": [
    {
     "ename": "AssertionError",
     "evalue": "Rule 3 is violated! The flight must end at position y=0.",
     "output_type": "error",
     "traceback": [
      "\u001b[0;31m---------------------------------------------------------------------------\u001b[0m",
      "\u001b[0;31mAssertionError\u001b[0m                            Traceback (most recent call last)",
      "Cell \u001b[0;32mIn[36], line 10\u001b[0m\n\u001b[1;32m      8\u001b[0m \u001b[38;5;66;03m# Test for test\u001b[39;00m\n\u001b[1;32m      9\u001b[0m invalid_list_of_y_positions \u001b[38;5;241m=\u001b[39m np\u001b[38;5;241m.\u001b[39marray([\u001b[38;5;241m0\u001b[39m, \u001b[38;5;241m1\u001b[39m, \u001b[38;5;241m1\u001b[39m])\n\u001b[0;32m---> 10\u001b[0m \u001b[43mtest_y_last_position_zero\u001b[49m\u001b[43m(\u001b[49m\u001b[43minvalid_list_of_y_positions\u001b[49m\u001b[43m)\u001b[49m\n",
      "Cell \u001b[0;32mIn[36], line 3\u001b[0m, in \u001b[0;36mtest_y_last_position_zero\u001b[0;34m(list_of_y_positions)\u001b[0m\n\u001b[1;32m      2\u001b[0m \u001b[38;5;28;01mdef\u001b[39;00m \u001b[38;5;21mtest_y_last_position_zero\u001b[39m(list_of_y_positions):\n\u001b[0;32m----> 3\u001b[0m     \u001b[38;5;28;01massert\u001b[39;00m list_of_y_positions[\u001b[38;5;241m-\u001b[39m\u001b[38;5;241m1\u001b[39m] \u001b[38;5;241m==\u001b[39m \u001b[38;5;28mint\u001b[39m, (\n\u001b[1;32m      4\u001b[0m         \u001b[38;5;124m\"\u001b[39m\u001b[38;5;124mRule 3 is violated! \u001b[39m\u001b[38;5;124m\"\u001b[39m \u001b[38;5;241m+\u001b[39m \n\u001b[1;32m      5\u001b[0m         \u001b[38;5;124m\"\u001b[39m\u001b[38;5;124mThe flight must end at position y=0.\u001b[39m\u001b[38;5;124m\"\u001b[39m\n\u001b[1;32m      6\u001b[0m     )\n",
      "\u001b[0;31mAssertionError\u001b[0m: Rule 3 is violated! The flight must end at position y=0."
     ]
    }
   ],
   "source": [
    "# Test Rule 3: You must end the flight back at position y=0.\n",
    "def test_y_last_position_zero(list_of_y_positions):\n",
    "    assert list_of_y_positions[-1] == int, (\n",
    "        \"Rule 3 is violated! \" + \n",
    "        \"The flight must end at position y=0.\"\n",
    "    )\n",
    "\n",
    "# Test for test\n",
    "invalid_list_of_y_positions = np.array([0, 1, 1])\n",
    "test_y_last_position_zero(invalid_list_of_y_positions)"
   ]
  },
  {
   "cell_type": "code",
   "execution_count": 37,
   "id": "f391f1bb-4c95-46b1-b3d2-f58d35ea7f99",
   "metadata": {},
   "outputs": [
    {
     "ename": "AssertionError",
     "evalue": "Rule 4 is violated! You have hit an asteroid at (4, 0)",
     "output_type": "error",
     "traceback": [
      "\u001b[0;31m---------------------------------------------------------------------------\u001b[0m",
      "\u001b[0;31mAssertionError\u001b[0m                            Traceback (most recent call last)",
      "Cell \u001b[0;32mIn[37], line 21\u001b[0m\n\u001b[1;32m     18\u001b[0m example_1_asteroid_centres \u001b[38;5;241m=\u001b[39m [(\u001b[38;5;241m3\u001b[39m, \u001b[38;5;241m4\u001b[39m), (\u001b[38;5;241m4\u001b[39m, \u001b[38;5;241m0\u001b[39m)]\n\u001b[1;32m     19\u001b[0m \u001b[38;5;66;03m# example_1_starting_y_position = 0\u001b[39;00m\n\u001b[1;32m     20\u001b[0m \u001b[38;5;66;03m# example_1_ending_y_position = 0\u001b[39;00m\n\u001b[0;32m---> 21\u001b[0m \u001b[43mtest_avoid_landing_on_asteroid\u001b[49m\u001b[43m(\u001b[49m\u001b[43mexample_1_position_xy\u001b[49m\u001b[43m,\u001b[49m\u001b[43m \u001b[49m\u001b[43mexample_1_asteroid_centres\u001b[49m\u001b[43m)\u001b[49m\n",
      "Cell \u001b[0;32mIn[37], line 11\u001b[0m, in \u001b[0;36mtest_avoid_landing_on_asteroid\u001b[0;34m(position_xy, list_of_asteroid_centres)\u001b[0m\n\u001b[1;32m      6\u001b[0m asteroid_centre_x, asteroid_centre_y \u001b[38;5;241m=\u001b[39m asteroid_centre_xy\n\u001b[1;32m      7\u001b[0m distance \u001b[38;5;241m=\u001b[39m np\u001b[38;5;241m.\u001b[39msqrt(\n\u001b[1;32m      8\u001b[0m     (position_x \u001b[38;5;241m-\u001b[39m asteroid_centre_x)\u001b[38;5;241m*\u001b[39m\u001b[38;5;241m*\u001b[39m\u001b[38;5;241m2\u001b[39m \u001b[38;5;241m+\u001b[39m\n\u001b[1;32m      9\u001b[0m     (position_y \u001b[38;5;241m-\u001b[39m asteroid_centre_y)\u001b[38;5;241m*\u001b[39m\u001b[38;5;241m*\u001b[39m\u001b[38;5;241m2\u001b[39m\n\u001b[1;32m     10\u001b[0m )\n\u001b[0;32m---> 11\u001b[0m \u001b[38;5;28;01massert\u001b[39;00m distance \u001b[38;5;241m>\u001b[39m \u001b[38;5;241m0.5\u001b[39m, (\n\u001b[1;32m     12\u001b[0m     \u001b[38;5;124m\"\u001b[39m\u001b[38;5;124mRule 4 is violated! \u001b[39m\u001b[38;5;124m\"\u001b[39m \u001b[38;5;241m+\u001b[39m\n\u001b[1;32m     13\u001b[0m     \u001b[38;5;124m\"\u001b[39m\u001b[38;5;124mYou have hit an asteroid at \u001b[39m\u001b[38;5;124m\"\u001b[39m \u001b[38;5;241m+\u001b[39m \u001b[38;5;28mstr\u001b[39m(asteroid_centre_xy)\n\u001b[1;32m     14\u001b[0m )\n",
      "\u001b[0;31mAssertionError\u001b[0m: Rule 4 is violated! You have hit an asteroid at (4, 0)"
     ]
    }
   ],
   "source": [
    "# Test Rule 4: Don't hit the asteroids! \n",
    "# Note that their radius is 0.5 of a distance unit, so it is not sufficient to simply avoid the coordinates on which they are centred.\n",
    "def test_avoid_landing_on_asteroid(position_xy, list_of_asteroid_centres):\n",
    "    position_x, position_y = position_xy\n",
    "    for asteroid_centre_xy in list_of_asteroid_centres:\n",
    "        asteroid_centre_x, asteroid_centre_y = asteroid_centre_xy\n",
    "        distance = np.sqrt(\n",
    "            (position_x - asteroid_centre_x)**2 +\n",
    "            (position_y - asteroid_centre_y)**2\n",
    "        )\n",
    "        assert distance > 0.5, (\n",
    "            \"Rule 4 is violated! \" +\n",
    "            \"You have hit an asteroid at \" + str(asteroid_centre_xy)\n",
    "        )\n",
    "\n",
    "# Simple case: Crossing asteroid centre\n",
    "example_1_position_xy = (4, 0)\n",
    "example_1_asteroid_centres = [(3, 4), (4, 0)]\n",
    "# example_1_starting_y_position = 0\n",
    "# example_1_ending_y_position = 0\n",
    "test_avoid_landing_on_asteroid(example_1_position_xy, example_1_asteroid_centres)"
   ]
  },
  {
   "cell_type": "code",
   "execution_count": null,
   "id": "ed85a87c-47ed-4150-bbe0-26eaa39c7457",
   "metadata": {},
   "outputs": [],
   "source": [
    "# General case: Crossing asteroid's area\n",
    "example_2_asteroid_centres = [(3, 4), (4, 0)]\n",
    "example_2_starting_y_position = 0\n",
    "example_2_ending_y_position = 1\n",
    "\n"
   ]
  },
  {
   "cell_type": "code",
   "execution_count": null,
   "id": "256a6dc4-b3e8-484d-8140-decbaa6a2e40",
   "metadata": {},
   "outputs": [],
   "source": [
    "# Corner case: Tangent to asteroid's perimeter\n",
    "example_3_asteroid_centres = [(3, 4), (4, 0)]\n",
    "example_3_starting_y_position = 0\n",
    "example_3_ending_y_position = "
   ]
  },
  {
   "cell_type": "code",
   "execution_count": 46,
   "id": "8e2346d2-b1e6-41de-a88c-44dcf57b4e77",
   "metadata": {},
   "outputs": [],
   "source": [
    "def move_from_start_to_finish(a_list_of_times, asteroid_locations):\n",
    "    return []"
   ]
  },
  {
   "cell_type": "code",
   "execution_count": 51,
   "id": "37016ed6-63f5-403c-bf67-f1dd8cae7009",
   "metadata": {},
   "outputs": [
    {
     "ename": "AssertionError",
     "evalue": "The function should return a non-empty list.",
     "output_type": "error",
     "traceback": [
      "\u001b[0;31m---------------------------------------------------------------------------\u001b[0m",
      "\u001b[0;31mAssertionError\u001b[0m                            Traceback (most recent call last)",
      "Cell \u001b[0;32mIn[51], line 11\u001b[0m\n\u001b[1;32m      3\u001b[0m     asteroid_locations \u001b[38;5;241m=\u001b[39m []\n\u001b[1;32m      4\u001b[0m     \u001b[38;5;28;01massert\u001b[39;00m (\n\u001b[1;32m      5\u001b[0m         \u001b[38;5;28mtype\u001b[39m(move_from_start_to_finish(a_list_of_times, asteroid_locations)) \u001b[38;5;241m==\u001b[39m \u001b[38;5;28mlist\u001b[39m \u001b[38;5;129;01mand\u001b[39;00m \n\u001b[1;32m      6\u001b[0m         \u001b[38;5;28mlen\u001b[39m(move_from_start_to_finish(a_list_of_times, asteroid_locations)) \u001b[38;5;241m>\u001b[39m \u001b[38;5;241m0\u001b[39m\n\u001b[1;32m      7\u001b[0m     ), (\n\u001b[1;32m      8\u001b[0m         \u001b[38;5;124m\"\u001b[39m\u001b[38;5;124mThe function should return a non-empty list.\u001b[39m\u001b[38;5;124m\"\u001b[39m\n\u001b[1;32m      9\u001b[0m     )\n\u001b[0;32m---> 11\u001b[0m \u001b[43mtest_main_function_returns_a_non_empty_list\u001b[49m\u001b[43m(\u001b[49m\u001b[43m)\u001b[49m\n",
      "Cell \u001b[0;32mIn[51], line 6\u001b[0m, in \u001b[0;36mtest_main_function_returns_a_non_empty_list\u001b[0;34m()\u001b[0m\n\u001b[1;32m      2\u001b[0m a_list_of_times \u001b[38;5;241m=\u001b[39m []\n\u001b[1;32m      3\u001b[0m asteroid_locations \u001b[38;5;241m=\u001b[39m []\n\u001b[1;32m      4\u001b[0m \u001b[38;5;28;01massert\u001b[39;00m (\n\u001b[1;32m      5\u001b[0m     \u001b[38;5;28mtype\u001b[39m(move_from_start_to_finish(a_list_of_times, asteroid_locations)) \u001b[38;5;241m==\u001b[39m \u001b[38;5;28mlist\u001b[39m \u001b[38;5;129;01mand\u001b[39;00m \n\u001b[0;32m----> 6\u001b[0m     \u001b[38;5;28mlen\u001b[39m(move_from_start_to_finish(a_list_of_times, asteroid_locations)) \u001b[38;5;241m>\u001b[39m \u001b[38;5;241m0\u001b[39m\n\u001b[1;32m      7\u001b[0m ), (\n\u001b[1;32m      8\u001b[0m     \u001b[38;5;124m\"\u001b[39m\u001b[38;5;124mThe function should return a non-empty list.\u001b[39m\u001b[38;5;124m\"\u001b[39m\n\u001b[1;32m      9\u001b[0m )\n",
      "\u001b[0;31mAssertionError\u001b[0m: The function should return a non-empty list."
     ]
    }
   ],
   "source": [
    "def test_main_function_returns_a_non_empty_list():\n",
    "    a_list_of_times = []\n",
    "    asteroid_locations = []\n",
    "    assert (\n",
    "        type(move_from_start_to_finish(a_list_of_times, asteroid_locations)) == list and \n",
    "        len(move_from_start_to_finish(a_list_of_times, asteroid_locations)) > 0\n",
    "    ), (\n",
    "        \"The function should return a non-empty list.\"\n",
    "    )\n",
    "\n",
    "test_main_function_returns_a_non_empty_list()"
   ]
  },
  {
   "cell_type": "code",
   "execution_count": 5,
   "id": "13bbe9ca",
   "metadata": {},
   "outputs": [
    {
     "name": "stdout",
     "output_type": "stream",
     "text": [
      "The list of times at the end is  [ 0  1  2  3  4  5  6  7  8  9 10]\n",
      "The list of y positions at the end is  [0 1 1 1 1 1 1 1 1 1 1]\n",
      "I moved a total of  0  units\n"
     ]
    }
   ],
   "source": [
    "# Plot again the asteroid field, so that we can plot the path on top of it\n",
    "plt.ion() # Make the plotting interactive so we can update the path as we fly\n",
    "fig = plt.figure()\n",
    "ax = plt.gcf().gca() #this stands for get current figure, get current axis\n",
    "plot_asteroid_field(ax)\n",
    "\n",
    "# go through the list of times, where index is the index within the \n",
    "# list, and time_now is the entry at that index\n",
    "for index, time_now in enumerate(list_of_times) :\n",
    "    \n",
    "    # the list of things to do when at a certain time starts with an 'if'\n",
    "    # start with time is zero, we start at position 0\n",
    "    if time_now == 0 :\n",
    "        list_of_y_positions[index] = 0\n",
    "    \n",
    "    # alternative option denoted by 'elif' (= else if)\n",
    "    # ie, if the time is between 1 and 3\n",
    "    elif (time_now > 0 and time_now < 2) :\n",
    "        step_size = 1\n",
    "        # moving y position by the step size\n",
    "        list_of_y_positions[index] = list_of_y_positions[index - 1] + step_size\n",
    "        \n",
    "    # UPDATE ME!\n",
    "    # Add more else if options here to cover all the times you need to move the ship\n",
    "    # (Try to make this as minimal as possible, rather than writing one elif statement\n",
    "    # per time step)\n",
    "\n",
    "    # finally, give the default option for all other cases using 'else'\n",
    "    else :\n",
    "        # nothing happens at other times\n",
    "        step_size = 0\n",
    "        # moving y position by the step size\n",
    "        list_of_y_positions[index] = list_of_y_positions[index - 1] + step_size\n",
    "\n",
    "    position_now = list_of_y_positions[index]\n",
    "    ax.plot(time_now, position_now, 'o')\n",
    "    plt.pause(0.3) # This pause just slows down the plotting so it looks nicer\n",
    "\n",
    "print(\"The list of times at the end is \", list_of_times)\n",
    "print(\"The list of y positions at the end is \", list_of_y_positions)\n",
    "\n",
    "ax.plot(list_of_times, list_of_y_positions, 'g-')\n",
    "plt.show()\n",
    "\n",
    "# Uncomment to save the figure\n",
    "# plt.savefig(\"flight_path.png\")\n",
    "\n",
    "# Print out some information\n",
    "total_distance_moved = 0 # UPDATE ME!\n",
    "print(\"I moved a total of \", total_distance_moved, \" units\")"
   ]
  },
  {
   "cell_type": "markdown",
   "id": "14b33155",
   "metadata": {},
   "source": [
    "### ACTIVITY 3:\n",
    "\n",
    "Now we are on an exploratory mission. Captian Katy wants you to plot a course for all of the blue (M or Minshara-class) planets on the map contained in `data/planet_locations.dat`, but not touching any of the other dangerous D-class pink planets. \n",
    "\n",
    "Again you need to update the code below to get the data from the data files.\n",
    "\n",
    "How could the read-in of the data (in particular checking of the class of the planet) be improved?"
   ]
  },
  {
   "cell_type": "code",
   "execution_count": 6,
   "id": "7c8121ee",
   "metadata": {},
   "outputs": [],
   "source": [
    "# Plot the planetary locations\n",
    "\n",
    "def plot_planet_locations(ax) :\n",
    "    plt.axis([0,15.5,-4,4])\n",
    "    major_ticks = np.arange(0, 16, 1)\n",
    "    ax.set_xticks(major_ticks)\n",
    "    plt.xlabel(\"time / x position\")\n",
    "    plt.ylabel(\"position\")\n",
    "    ax.set_aspect('equal')\n",
    "    ax.grid(which='major', alpha=0.8)\n",
    "\n",
    "    # Mark the planet positions onto the plot - read in the data from data/planet_locations.dat\n",
    "    # HINT: the function you need is called loadtxt\n",
    "    planet_locations= np.array([[0,0,0], [0,0,0]]) # UPDATE ME!\n",
    "\n",
    "    for index, location in enumerate(planet_locations) :\n",
    "        is_minshara_class =  (location[2] == 1)\n",
    "        coordinates = np.array([location[0],location[1]])\n",
    "        if(is_minshara_class) :\n",
    "            circle=plt.Circle(coordinates, 0.5, color='b')\n",
    "            plt.gcf().gca().add_artist(circle)\n",
    "        else : # other planets are dangerous D class planets\n",
    "            circle=plt.Circle(coordinates, 0.5, color='m')\n",
    "            plt.gcf().gca().add_artist(circle)  \n",
    "\n",
    "# Test the plot\n",
    "fig = plt.figure()\n",
    "ax = plt.gcf().gca()\n",
    "plot_planet_locations(ax)"
   ]
  },
  {
   "cell_type": "markdown",
   "id": "d787ce7d",
   "metadata": {},
   "source": [
    "### ACTIVITY 4:\n",
    "\n",
    "Update the code below to make sure you visit all the M class planets as your Captain has asked (same rules of motion as above). What is the shortest distance in which you can do this? Update the code to calculate your value.\n",
    "\n",
    "Again, you should _first write code that checks that the code does what it should_, and then implement the actual actions."
   ]
  },
  {
   "cell_type": "code",
   "execution_count": 9,
   "id": "f9a6cc6f",
   "metadata": {},
   "outputs": [
    {
     "name": "stdout",
     "output_type": "stream",
     "text": [
      "The list of times at the start is  [ 0  1  2  3  4  5  6  7  8  9 10 11 12 13 14 15]\n",
      "The list of positions at the start is  [0 0 0 0 0 0 0 0 0 0 0 0 0 0 0 0]\n",
      "The list of times at the end is  [ 0  1  2  3  4  5  6  7  8  9 10 11 12 13 14 15]\n",
      "The list of positions at the end is  [ 0 -2 -2 -2 -2 -2 -2 -2 -2 -2 -2 -2 -2 -2 -2 -2]\n",
      "I moved a total of  0  units\n"
     ]
    }
   ],
   "source": [
    "# Plot again the asteroid field, so that we can plot the path on top of it\n",
    "plt.ion() # Make the plotting interactive so we can update the path as we fly\n",
    "fig = plt.figure()\n",
    "ax = plt.gcf().gca()\n",
    "plot_planet_locations(ax)   \n",
    "\n",
    "# set up a list to store the times and positions\n",
    "final_time = 15\n",
    "list_of_times = np.arange(final_time+1)\n",
    "list_of_y_positions = np.zeros_like(list_of_times)\n",
    "\n",
    "# we want to track how much we have moved during the simulation\n",
    "# so zero this\n",
    "total_distance_moved = 0\n",
    "\n",
    "# print off the initial values of the times and positions\n",
    "print(\"The list of times at the start is \", list_of_times)\n",
    "print(\"The list of positions at the start is \", list_of_y_positions)\n",
    "\n",
    "# go through the list of times, where index is the index within the \n",
    "# list, and time_now is the entry at that index\n",
    "for index, time_now in enumerate(list_of_times) :\n",
    "    \n",
    "    # the list of things to do when at a certain time starts with an 'if'\n",
    "    # start with time is zero, we start at position 0\n",
    "    if time_now == 0 :\n",
    "        list_of_y_positions[index] = 0\n",
    "    \n",
    "    # alternative option denoted by 'elif' (= else if)\n",
    "    elif (time_now > 0 and time_now < 2) :\n",
    "        step_size = 2\n",
    "        # moving y position by the step size\n",
    "        list_of_y_positions[index] = list_of_y_positions[index - 1] - step_size\n",
    "        \n",
    "    # UPDATE ME!\n",
    "    # Add more else if options here to cover all the times you need to move the ship\n",
    "    # (Try to make this as minimal as possible, rather than writing one elif statement\n",
    "    # per time step)\n",
    "\n",
    "    # finally, give the default option for all other cases using 'else'\n",
    "    else :\n",
    "        # nothing happens at other times\n",
    "        step_size = 0\n",
    "        list_of_y_positions[index] = list_of_y_positions[index - 1] + step_size\n",
    "\n",
    "    position_now = list_of_y_positions[index]\n",
    "    plt.plot(time_now, position_now, 'o')\n",
    "    plt.pause(0.4)\n",
    "\n",
    "print(\"The list of times at the end is \", list_of_times)\n",
    "print(\"The list of positions at the end is \", list_of_y_positions)\n",
    "\n",
    "plt.plot(list_of_times, list_of_y_positions, 'g-')\n",
    "plt.show()\n",
    "\n",
    "# Uncomment to save the figure\n",
    "#plt.savefig(\"myplot2.png\")\n",
    "\n",
    "# Calculate and print out some information\n",
    "total_distance_moved = 0\n",
    "print(\"I moved a total of \", total_distance_moved, \" units\")"
   ]
  },
  {
   "cell_type": "markdown",
   "id": "fc8f692b",
   "metadata": {},
   "source": [
    "### ACTIVITY 5:\n",
    "\n",
    "Which software carpentry features are already implemented?"
   ]
  },
  {
   "cell_type": "markdown",
   "id": "d716d404",
   "metadata": {},
   "source": [
    "1. There are comments to help the reader know what is happening...\n",
    "2. UPDATE ME\n",
    "3. ...\n",
    "\n"
   ]
  },
  {
   "cell_type": "markdown",
   "id": "89916b20",
   "metadata": {},
   "source": [
    "### ACTIVITY 6:\n",
    "\n",
    "*Timing*: the code is very short but it is still useful to time the `for` loop to see how long it is taking and understand how it could be optimised. Add something that returns the time taken for it to run. Change the pause time for the plotting and check that the time to run changes appropriately. (I would just google \"how to time function in python\")."
   ]
  },
  {
   "cell_type": "markdown",
   "id": "058d6f9b",
   "metadata": {},
   "source": [
    "### ACTIVITY 7:\n",
    "\n",
    "Suggest other ways to improve the code. Free to use your imagination and suggest major changes (you don't need to implement them unless you want to)."
   ]
  },
  {
   "cell_type": "markdown",
   "id": "dce67f18",
   "metadata": {},
   "source": [
    "1. UPDATE ME\n",
    "2. ...\n",
    "\n"
   ]
  }
 ],
 "metadata": {
  "kernelspec": {
   "display_name": "Python 3 (ipykernel)",
   "language": "python",
   "name": "python3"
  },
  "language_info": {
   "codemirror_mode": {
    "name": "ipython",
    "version": 3
   },
   "file_extension": ".py",
   "mimetype": "text/x-python",
   "name": "python",
   "nbconvert_exporter": "python",
   "pygments_lexer": "ipython3",
   "version": "3.11.6"
  }
 },
 "nbformat": 4,
 "nbformat_minor": 5
}
